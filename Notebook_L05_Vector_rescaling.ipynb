{
 "cells": [
  {
   "cell_type": "markdown",
   "id": "cea59407",
   "metadata": {},
   "source": [
    "# Data vectors and rescaling\n",
    "In ML most things are a form of linear .algebra. But if you aren't careful with your data representation you can f up your ML system. Most forms of ML use a measure of either how similar two datapoints are (e.g. dot product) or how far apart they are (e.g., Euclidean norm).  In this notebook I show you how this can give you unexpected results, and why it is critical to rescale or normalize or otherwise maniuplate your raw data to make a linear algebra based ML system work properly.  \n",
    "\n",
    "Directions: Exectute the cells in this notebook one by one.  Try to understand what the cell is doing before you execute it, then take a look at the output of the cell. There's a narrative here, supplied by the code and results, as you move from top to bottom.  "
   ]
  },
  {
   "cell_type": "code",
   "execution_count": null,
   "id": "796b70c1",
   "metadata": {},
   "outputs": [],
   "source": [
    "import numpy as np\n",
    "import pandas as pd\n",
    "from scipy import stats\n",
    "from numpy.linalg import norm\n",
    "\n",
    "# two useful data viz libraries\n",
    "import matplotlib.pyplot as plt\n",
    "import seaborn as sns\n",
    "\n",
    "# setup plotting in a notebook in a reasonable way\n",
    "%matplotlib inline\n",
    "%config InlineBackend.figure_format='retina'\n",
    "\n",
    "# default figure aesthetics I'll be using, \n",
    "# there are other choices, see seaborn docs\n",
    "sns.set_style(\"darkgrid\")\n",
    "sns.set_context(\"notebook\")"
   ]
  },
  {
   "cell_type": "code",
   "execution_count": null,
   "id": "d9c1adf1",
   "metadata": {},
   "outputs": [],
   "source": [
    "# lets get some 🐧 data to work with\n",
    "penguins = sns.load_dataset(\"penguins\").dropna()\n",
    "penguins"
   ]
  },
  {
   "cell_type": "code",
   "execution_count": null,
   "id": "3a0d6f93",
   "metadata": {},
   "outputs": [],
   "source": [
    "# for functions that return a graphics handle\n",
    "# putting a ; afterwards supressed the echo\n",
    "# of the handle to the screen when its the last line\n",
    "# of a cell\n",
    "sns.pairplot(penguins, hue='species');"
   ]
  },
  {
   "cell_type": "code",
   "execution_count": null,
   "id": "ff4eb69b",
   "metadata": {},
   "outputs": [],
   "source": [
    "# lets zoom in on that graph in the lower left corner\n",
    "# it looks like we might be able to tell all the different species \n",
    "# just from those two measurements with some success\n",
    "\n",
    "# what if I plot this with equal axis?\n",
    "g = sns.scatterplot( penguins, \n",
    "                    x='bill_length_mm', \n",
    "                    y='body_mass_g', \n",
    "                    hue='species')\n",
    "\n",
    "# axis equal enforces that both x and y axis\n",
    "# have the same number of values and that those values\n",
    "# cover the same number of inches on the plot\n",
    "# uncomment the line below to try!!!\n",
    "\n",
    "#g.axis('equal');"
   ]
  },
  {
   "cell_type": "code",
   "execution_count": null,
   "id": "da67208a",
   "metadata": {},
   "outputs": [],
   "source": [
    "# keep that equal axis picture in mind while we go\n",
    "# through the stuff below and try to explain what we observe\n",
    "\n",
    "# here are 3 penguins\n",
    "selected = [21,50,154]\n",
    "\n",
    "penguins['selected']=False\n",
    "penguins.loc[selected,'selected']=True\n",
    "penguins.sort_values(by='selected',inplace=True)\n",
    "g = sns.scatterplot(penguins,  \n",
    "                    x='bill_length_mm', \n",
    "                    y='body_mass_g', \n",
    "                    hue='selected')\n",
    "\n",
    "for x in selected:\n",
    "    plt.annotate(str(x),(penguins.loc[x,'bill_length_mm'],penguins.loc[x,'body_mass_g']))\n",
    "\n",
    "\n",
    "\n",
    "psub = penguins.loc[selected,\n",
    "                    ['bill_length_mm','body_mass_g','species']]\n",
    "psub"
   ]
  },
  {
   "cell_type": "code",
   "execution_count": null,
   "id": "b1b5a589",
   "metadata": {},
   "outputs": [],
   "source": [
    "peng=penguins.loc[selected,['bill_length_mm','body_mass_g']].values\n",
    "peng"
   ]
  },
  {
   "cell_type": "code",
   "execution_count": null,
   "id": "43c1428d",
   "metadata": {},
   "outputs": [],
   "source": [
    "dotval = np.dot(peng[0],peng[1])\n",
    "normval = norm(peng[0]-peng[1])\n",
    "print(f'P21 is this similar to P50 <P21,P50>={dotval:.2e}',\n",
    "      f'\\nP21 is this far from P50 ||P21-P50||={normval:.2e}')\n",
    "print()\n",
    "dotval = np.dot(peng[0],peng[2])\n",
    "normval = norm(peng[0]-peng[2])\n",
    "print(f'P21 is this similar to P154 <P21,P154>={dotval:.2e}',\n",
    "      f'\\nP21 is this far from P154 ||P21-P154||={normval:.2e}')\n",
    "print()\n",
    "print('What? Our results say P21 is MORE SIMILAR/CLOSER to P154 than to P50, but our eyeballs looking at the plot say the opposite ')"
   ]
  },
  {
   "cell_type": "code",
   "execution_count": null,
   "id": "0a19556f",
   "metadata": {},
   "outputs": [],
   "source": [
    "# what if I plot this with equal axis?\n",
    "# NOW my eyeball results match what the numbers say above!\n",
    "g = sns.scatterplot(penguins,  \n",
    "                    x='bill_length_mm', \n",
    "                    y='body_mass_g', \n",
    "                    hue='selected')\n",
    "\n",
    "for x in selected:\n",
    "    plt.annotate(str(x),(penguins.loc[x,'bill_length_mm'],penguins.loc[x,'body_mass_g']))\n",
    "\n",
    "# uncomment the line below to try!!!\n",
    "g.axis('equal');"
   ]
  },
  {
   "cell_type": "code",
   "execution_count": null,
   "id": "c0d98b54",
   "metadata": {},
   "outputs": [],
   "source": [
    "# this happens because the biggest and smallest values on \n",
    "# the x-axis values are ~10^1 apart, but the biggest/smallest\n",
    "# on the y-axis are about two orders of magnitude further apart\n",
    "# y-axis values dominate in any metric space!!\n",
    "\n",
    "\n",
    "# StandardScaler is just ONE choice of normalization available\n",
    "# it z-scores each column of a dataset\n",
    "# See sklearn docs: https://scikit-learn.org/stable/modules/preprocessing.html\n",
    "from sklearn.preprocessing import StandardScaler\n",
    "\n",
    "for col in ['bill_length_mm', 'body_mass_g']:\n",
    "    zscored = StandardScaler().fit_transform(\n",
    "        penguins[col].values.reshape(-1, 1) \n",
    "    ) # reshape because doing it 1 column at a time \n",
    "    penguins[col[:-2]+'_standardized'] = zscored\n",
    "    \n",
    "penguins[['species', \n",
    "          'bill_length__standardized', 'body_mass_standardized']]"
   ]
  },
  {
   "cell_type": "code",
   "execution_count": null,
   "id": "09377fd5",
   "metadata": {},
   "outputs": [],
   "source": [
    "# after z scoring the results are now turned into \n",
    "# the same order of magnitude on each of the axes\n",
    "# with values that are in terms of number of stddeviations\n",
    "# a particular datapoint is away from the mean of that measurement\n",
    "g = sns.scatterplot(penguins,  \n",
    "                    x='bill_length__standardized', \n",
    "                    y='body_mass_standardized', \n",
    "                    hue='selected')\n",
    "\n",
    "for x in selected:\n",
    "    plt.annotate(str(x),(penguins.loc[x,'bill_length__standardized'],penguins.loc[x,'body_mass_standardized']))\n",
    "\n",
    "# We force equal axis\n",
    "g.axis('equal');"
   ]
  },
  {
   "cell_type": "code",
   "execution_count": null,
   "id": "50f57704",
   "metadata": {},
   "outputs": [],
   "source": [
    "peng=penguins.loc[selected,\n",
    "                  ['bill_length__standardized','body_mass_standardized']].values\n",
    "peng"
   ]
  },
  {
   "cell_type": "code",
   "execution_count": null,
   "id": "90e72077",
   "metadata": {},
   "outputs": [],
   "source": [
    "dotval = np.dot(peng[0],peng[1])\n",
    "normval = norm(peng[0]-peng[1])\n",
    "print(f'P21 is this similar to P50 <P21,P50>={dotval:.2e}',\n",
    "      f'\\nP21 is this far from P50 ||P21-P50||={normval:.2e}')\n",
    "print()\n",
    "dotval = np.dot(peng[0],peng[2])\n",
    "normval = norm(peng[0]-peng[2])\n",
    "print(f'P21 is this similar to P154 <P21,P154>={dotval:.2e}',\n",
    "      f'\\nP21 is this far from P154 ||P21-P154||={normval:.2e}')\n",
    "print()\n",
    "print('Now results match what we expected in the first place ')"
   ]
  }
 ],
 "metadata": {
  "kernelspec": {
   "display_name": "Python 3 (ipykernel)",
   "language": "python",
   "name": "python3"
  },
  "language_info": {
   "codemirror_mode": {
    "name": "ipython",
    "version": 3
   },
   "file_extension": ".py",
   "mimetype": "text/x-python",
   "name": "python",
   "nbconvert_exporter": "python",
   "pygments_lexer": "ipython3",
   "version": "3.9.6"
  }
 },
 "nbformat": 4,
 "nbformat_minor": 5
}
