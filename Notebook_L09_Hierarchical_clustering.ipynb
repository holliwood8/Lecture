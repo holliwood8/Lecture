{
 "cells": [
  {
   "cell_type": "code",
   "execution_count": null,
   "id": "59fdccb0",
   "metadata": {},
   "outputs": [],
   "source": [
    "# things we will need to do stuff in this notebook\n",
    "import numpy as np\n",
    "import pandas as pd\n",
    "from scipy import stats\n",
    "from numpy.linalg import norm\n",
    "from scipy.cluster.hierarchy import linkage, dendrogram, fcluster\n",
    "from sklearn.preprocessing import StandardScaler\n",
    "\n",
    "# two useful data viz libraries\n",
    "import matplotlib.pyplot as plt\n",
    "import seaborn as sns\n",
    "\n",
    "# setup plotting in a notebook in a reasonable way\n",
    "%matplotlib inline\n",
    "%config InlineBackend.figure_format='retina'\n",
    "\n",
    "# default figure aesthetics I'll be using, \n",
    "# there are other choices, see seaborn docs\n",
    "sns.set_style(\"white\")\n",
    "sns.set_context(\"notebook\")"
   ]
  },
  {
   "cell_type": "code",
   "execution_count": null,
   "id": "19561492",
   "metadata": {},
   "outputs": [],
   "source": [
    "# lets get some 🐧 data to work with\n",
    "penguins = sns.load_dataset(\"penguins\").dropna()\n",
    "penguins"
   ]
  },
  {
   "cell_type": "code",
   "execution_count": null,
   "id": "88da442b",
   "metadata": {},
   "outputs": [],
   "source": [
    "numeric = penguins.columns[(penguins.dtypes == float)]\n",
    "data = penguins[numeric]\n",
    "data"
   ]
  },
  {
   "cell_type": "code",
   "execution_count": null,
   "id": "38b011b7",
   "metadata": {},
   "outputs": [],
   "source": [
    "def all_linkages(data):\n",
    "\n",
    "    tree_sing = linkage(data,method='single')\n",
    "    tree_cplt = linkage(data,method='complete')\n",
    "    tree_avrg = linkage(data,method='average')\n",
    "    tree_ward = linkage(data,method='ward')\n",
    "\n",
    "    fig, axs = plt.subplots(2,2, figsize=(12,12))\n",
    "\n",
    "    dendrogram(tree_sing, ax=axs[0,0])\n",
    "    axs[0,0].set_title('Single linkage')\n",
    "    xlim = axs[0,0].get_xlim()\n",
    "    axs[0,0].set_yticks([])\n",
    "    axs[0,0].set_xticks([])\n",
    "    axs[0,0].set_xlim(xlim)\n",
    "\n",
    "\n",
    "    dendrogram(tree_cplt, ax=axs[0,1])\n",
    "    axs[0,1].set_title('Complete linkage')\n",
    "    axs[0,1].set_yticks([])\n",
    "    axs[0,1].set_xticks([])\n",
    "\n",
    "    dendrogram(tree_avrg, ax=axs[1,0])\n",
    "    axs[1,0].set_title('Average linkage')\n",
    "    axs[1,0].set_yticks([])\n",
    "    axs[1,0].set_xticks([])\n",
    "\n",
    "    dendrogram(tree_ward, ax=axs[1,1])\n",
    "    axs[1,1].set_title('Ward linkage');\n",
    "    axs[1,1].set_yticks([])\n",
    "    axs[1,1].set_xticks([])\n",
    "\n",
    "    sns.despine(left=True, bottom=True)\n",
    "    \n",
    "    return tree_sing, tree_cplt, tree_avrg, tree_ward"
   ]
  },
  {
   "cell_type": "code",
   "execution_count": null,
   "id": "3e63a580",
   "metadata": {},
   "outputs": [],
   "source": [
    "tree_sing, tree_cplt, tree_avrg, tree_ward = all_linkages(data)"
   ]
  },
  {
   "cell_type": "code",
   "execution_count": null,
   "id": "61dad0c1",
   "metadata": {},
   "outputs": [],
   "source": [
    "fig, ax = plt.subplots(figsize=(12,12))\n",
    "\n",
    "dendrogram(tree_ward, ax=ax);\n",
    "sns.despine(left=True,bottom=True)"
   ]
  },
  {
   "cell_type": "code",
   "execution_count": null,
   "id": "69306dc6",
   "metadata": {},
   "outputs": [],
   "source": [
    "# try different values trying to pull out unique combinations of species or species-sex\n",
    "clust = fcluster(tree_ward, criterion='distance', t=6000) \n",
    "clust"
   ]
  },
  {
   "cell_type": "code",
   "execution_count": null,
   "id": "e257450b",
   "metadata": {},
   "outputs": [],
   "source": [
    "penguins['cluster']=clust\n",
    "penguins.groupby('cluster')[['species','sex']].value_counts()"
   ]
  },
  {
   "cell_type": "code",
   "execution_count": null,
   "id": "b139d194",
   "metadata": {},
   "outputs": [],
   "source": []
  },
  {
   "cell_type": "code",
   "execution_count": null,
   "id": "bd532926",
   "metadata": {},
   "outputs": [],
   "source": [
    "# what is wrong? why can't we get a good clustering?  is there something about the data?"
   ]
  },
  {
   "cell_type": "code",
   "execution_count": null,
   "id": "a7a937d0",
   "metadata": {},
   "outputs": [],
   "source": [
    "# YOUR CODE HERE TO SOLVE THE SOLUTION\n",
    "# copy paste things above to get a cluster analysis once you've figured out the issue"
   ]
  },
  {
   "cell_type": "code",
   "execution_count": null,
   "id": "ce30e3d2",
   "metadata": {},
   "outputs": [],
   "source": []
  }
 ],
 "metadata": {
  "kernelspec": {
   "display_name": "Python 3 (ipykernel)",
   "language": "python",
   "name": "python3"
  },
  "language_info": {
   "codemirror_mode": {
    "name": "ipython",
    "version": 3
   },
   "file_extension": ".py",
   "mimetype": "text/x-python",
   "name": "python",
   "nbconvert_exporter": "python",
   "pygments_lexer": "ipython3",
   "version": "3.8.8"
  }
 },
 "nbformat": 4,
 "nbformat_minor": 5
}
