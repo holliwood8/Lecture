{
 "cells": [
  {
   "cell_type": "markdown",
   "id": "f4ab1a38",
   "metadata": {
    "slideshow": {
     "slide_type": "slide"
    }
   },
   "source": [
    "## How to be wrong\n",
    "\n",
    "\n",
    "- Clustering is fundamentally a kind of EDA\n",
    "- You can always end up seeing patterns that aren't there\n",
    "\n"
   ]
  },
  {
   "cell_type": "markdown",
   "id": "fb687598",
   "metadata": {
    "slideshow": {
     "slide_type": "fragment"
    }
   },
   "source": [
    "<img alt=\"pareidolia\" src=\"https://journals.sagepub.com/cms/10.1177/0004867418821433/asset/images/large/10.1177_0004867418821433-fig1.jpeg\" width=150 >"
   ]
  },
  {
   "cell_type": "markdown",
   "id": "63d780a2",
   "metadata": {},
   "source": [
    "### Big issues\n",
    "- High-d \n",
    "- High-n\n",
    "\n",
    "### Model selection process\n",
    "- Data transformation\n",
    "    - Scaling\n",
    "    - Categorical encodings\n",
    "    - More elaborate preprocessing\n",
    "    - Dimensionality reduction ***\n",
    "- Distance/similarity metric \n",
    "- Algorithm\n",
    "- Number of clusters"
   ]
  },
  {
   "cell_type": "code",
   "execution_count": 10,
   "id": "15dfde02",
   "metadata": {},
   "outputs": [
    {
     "name": "stdout",
     "output_type": "stream",
     "text": [
      "# digits: 10; # samples: 1797; # features 64\n"
     ]
    }
   ],
   "source": [
    "import numpy as np\n",
    "\n",
    "from sklearn.datasets import load_digits\n",
    "\n",
    "data, true_labels = load_digits(return_X_y=True)\n",
    "(n_samples, n_features), n_digits = data.shape, np.unique(true_labels).size\n",
    "\n",
    "print(f\"# digits: {n_digits}; # samples: {n_samples}; # features {n_features}\")"
   ]
  },
  {
   "cell_type": "code",
   "execution_count": 11,
   "id": "d592d415",
   "metadata": {},
   "outputs": [
    {
     "data": {
      "text/plain": [
       "GridSearchCV(estimator=GaussianMixture(n_init=5),\n",
       "             param_grid={'covariance_type': ['spherical', 'tied', 'diag',\n",
       "                                             'full'],\n",
       "                         'n_components': range(7, 13)},\n",
       "             scoring=<function gmm_bic_score at 0x7fe412529c10>)"
      ]
     },
     "execution_count": 11,
     "metadata": {},
     "output_type": "execute_result"
    }
   ],
   "source": [
    "from sklearn.mixture import GaussianMixture\n",
    "from sklearn.model_selection import GridSearchCV\n",
    "\n",
    "\n",
    "# this is your scoring function for Grid Search\n",
    "def gmm_bic_score(estimator, X):\n",
    "    \"\"\"Callable to pass to GridSearchCV that will use the BIC score.\"\"\"\n",
    "    # Make it negative since GridSearchCV expects a score to maximize\n",
    "    return -estimator.bic(X)\n",
    "\n",
    "# this is the parameters, of which the Grid Search \n",
    "# tries all possible combinations... \n",
    "# e.g. full+1component, full+2, ... full+7, diag+1, diag+2... \n",
    "param_grid = {\n",
    "    \"n_components\": range(7, 13),\n",
    "    \"covariance_type\": [\"spherical\", \"tied\", \"diag\", \"full\"],\n",
    "}\n",
    "\n",
    "# docs at\n",
    "# https://scikit-learn.org/stable/modules/generated/sklearn.model_selection.GridSearchCV.html\n",
    "# also puyt in link for GMM!!!\n",
    "grid_search = GridSearchCV(\n",
    "    GaussianMixture(n_init=5), param_grid=param_grid, scoring=gmm_bic_score\n",
    ")\n",
    "grid_search.fit(data)"
   ]
  },
  {
   "cell_type": "code",
   "execution_count": 12,
   "id": "b2ee665d",
   "metadata": {},
   "outputs": [
    {
     "data": {
      "text/html": [
       "<div>\n",
       "<style scoped>\n",
       "    .dataframe tbody tr th:only-of-type {\n",
       "        vertical-align: middle;\n",
       "    }\n",
       "\n",
       "    .dataframe tbody tr th {\n",
       "        vertical-align: top;\n",
       "    }\n",
       "\n",
       "    .dataframe thead th {\n",
       "        text-align: right;\n",
       "    }\n",
       "</style>\n",
       "<table border=\"1\" class=\"dataframe\">\n",
       "  <thead>\n",
       "    <tr style=\"text-align: right;\">\n",
       "      <th></th>\n",
       "      <th>Number of components</th>\n",
       "      <th>Type of covariance</th>\n",
       "      <th>BIC score</th>\n",
       "    </tr>\n",
       "  </thead>\n",
       "  <tbody>\n",
       "    <tr>\n",
       "      <th>3</th>\n",
       "      <td>10</td>\n",
       "      <td>spherical</td>\n",
       "      <td>125142.464981</td>\n",
       "    </tr>\n",
       "    <tr>\n",
       "      <th>5</th>\n",
       "      <td>12</td>\n",
       "      <td>spherical</td>\n",
       "      <td>125179.654530</td>\n",
       "    </tr>\n",
       "    <tr>\n",
       "      <th>4</th>\n",
       "      <td>11</td>\n",
       "      <td>spherical</td>\n",
       "      <td>125240.771999</td>\n",
       "    </tr>\n",
       "    <tr>\n",
       "      <th>2</th>\n",
       "      <td>9</td>\n",
       "      <td>spherical</td>\n",
       "      <td>125255.038432</td>\n",
       "    </tr>\n",
       "    <tr>\n",
       "      <th>1</th>\n",
       "      <td>8</td>\n",
       "      <td>spherical</td>\n",
       "      <td>125785.674893</td>\n",
       "    </tr>\n",
       "  </tbody>\n",
       "</table>\n",
       "</div>"
      ],
      "text/plain": [
       "  Number of components Type of covariance      BIC score\n",
       "3                   10          spherical  125142.464981\n",
       "5                   12          spherical  125179.654530\n",
       "4                   11          spherical  125240.771999\n",
       "2                    9          spherical  125255.038432\n",
       "1                    8          spherical  125785.674893"
      ]
     },
     "execution_count": 12,
     "metadata": {},
     "output_type": "execute_result"
    }
   ],
   "source": [
    "import pandas as pd\n",
    "\n",
    "df = pd.DataFrame(grid_search.cv_results_)[\n",
    "    [\"param_n_components\", \"param_covariance_type\", \"mean_test_score\"]\n",
    "]\n",
    "df[\"mean_test_score\"] = -df[\"mean_test_score\"]\n",
    "df = df.rename(\n",
    "    columns={\n",
    "        \"param_n_components\": \"Number of components\",\n",
    "        \"param_covariance_type\": \"Type of covariance\",\n",
    "        \"mean_test_score\": \"BIC score\",\n",
    "    }\n",
    ")\n",
    "df.sort_values(by=\"BIC score\").head()"
   ]
  },
  {
   "cell_type": "code",
   "execution_count": 13,
   "id": "740e0a7c",
   "metadata": {},
   "outputs": [
    {
     "data": {
      "image/png": "[encoded data removed]",
      "text/plain": [
       "<Figure size 641.611x500 with 1 Axes>"
      ]
     },
     "metadata": {},
     "output_type": "display_data"
    }
   ],
   "source": [
    "import seaborn as sns\n",
    "\n",
    "sns.catplot(\n",
    "    data=df,\n",
    "    kind=\"bar\",\n",
    "    x=\"Number of components\",\n",
    "    y=\"BIC score\",\n",
    "    hue=\"Type of covariance\",\n",
    ");\n"
   ]
  },
  {
   "cell_type": "code",
   "execution_count": 14,
   "id": "623041e7",
   "metadata": {},
   "outputs": [
    {
     "data": {
      "image/png": "[encoded data removed]",
      "text/plain": [
       "<Figure size 600x600 with 10 Axes>"
      ]
     },
     "metadata": {},
     "output_type": "display_data"
    }
   ],
   "source": [
    "import matplotlib.pyplot as plt\n",
    "\n",
    "fig = plt.figure(figsize=(6, 6))\n",
    "fig.subplots_adjust(left=0, right=1, bottom=0, top=1, hspace=0.05, wspace=0.05)\n",
    "\n",
    "cmeans = grid_search.best_estimator_.means_\n",
    "\n",
    "for i in range(cmeans.shape[0]):\n",
    "    ax = fig.add_subplot(4, 3, i + 1, xticks=[], yticks=[])\n",
    "    # data is 28 x 28 pixels, grayscale\n",
    "    ax.imshow(cmeans[i].reshape(8,8),  interpolation='nearest')\n",
    "    # label the image with the target value\n",
    "    #ax.text(0, 7, str(mnist.target.loc[i]))"
   ]
  },
  {
   "cell_type": "code",
   "execution_count": 16,
   "id": "caf75c71",
   "metadata": {},
   "outputs": [
    {
     "name": "stdout",
     "output_type": "stream",
     "text": [
      "Estimated number of clusters: 10\n",
      "Adjusted Rand Index: 0.638\n",
      "Silhouette Coefficient: 0.184\n"
     ]
    }
   ],
   "source": [
    "from sklearn.metrics import adjusted_rand_score, silhouette_score\n",
    "\n",
    "n_clusters_ = grid_search.best_estimator_.means_.shape[0]\n",
    "labels = grid_search.predict(data)\n",
    "\n",
    "print(\"Estimated number of clusters: %d\" % n_clusters_)\n",
    "\n",
    "print(f\"Adjusted Rand Index: {adjusted_rand_score(true_labels, labels):.3f}\")\n",
    "try:\n",
    "    print(f\"Silhouette Coefficient: {silhouette_score(data, labels):.3f}\")\n",
    "except ValueError:\n",
    "    print('Seems like you only got 1 cluster, so Silhoutte cannot be calculated')"
   ]
  },
  {
   "cell_type": "code",
   "execution_count": 62,
   "id": "f6f17a5d",
   "metadata": {},
   "outputs": [
    {
     "data": {
      "text/plain": [
       "GridSearchCV(estimator=Pipeline(steps=[('scaler', QuantileTransformer()),\n",
       "                                       ('gmm', GaussianMixture(n_init=5))]),\n",
       "             param_grid={'gmm__covariance_type': ['spherical'],\n",
       "                         'gmm__n_components': range(7, 13)},\n",
       "             scoring=<function scgmm_bic_score at 0x7fe3c9870c10>)"
      ]
     },
     "execution_count": 62,
     "metadata": {},
     "output_type": "execute_result"
    }
   ],
   "source": [
    "from sklearn.preprocessing import StandardScaler, QuantileTransformer\n",
    "from sklearn.pipeline import Pipeline\n",
    "\n",
    "scgmm = Pipeline([\n",
    "    ('scaler', QuantileTransformer()),\n",
    "    ('gmm', GaussianMixture(n_init=5))\n",
    "])\n",
    "\n",
    "scparam_grid = {\n",
    "    \"gmm__n_components\": range(7, 13),\n",
    "    \"gmm__covariance_type\": [\"spherical\"]#, \"tied\", \"diag\", \"full\"],\n",
    "}\n",
    "\n",
    "def scgmm_bic_score(estimator, X):\n",
    "    \"\"\"Callable to pass to GridSearchCV that will use the BIC score.\"\"\"\n",
    "    # Make it negative since GridSearchCV expects a score to maximize\n",
    "    return -estimator.steps[-1][1].bic(X)\n",
    "\n",
    "scaled = QuantileTransformer().fit_transform(data)\n",
    "grid_scaled = GridSearchCV(\n",
    "    scgmm, param_grid=scparam_grid, scoring=scgmm_bic_score\n",
    ")\n",
    "grid_scaled.fit(scaled)"
   ]
  },
  {
   "cell_type": "code",
   "execution_count": 63,
   "id": "48f16ee6",
   "metadata": {},
   "outputs": [
    {
     "data": {
      "text/html": [
       "<div>\n",
       "<style scoped>\n",
       "    .dataframe tbody tr th:only-of-type {\n",
       "        vertical-align: middle;\n",
       "    }\n",
       "\n",
       "    .dataframe tbody tr th {\n",
       "        vertical-align: top;\n",
       "    }\n",
       "\n",
       "    .dataframe thead th {\n",
       "        text-align: right;\n",
       "    }\n",
       "</style>\n",
       "<table border=\"1\" class=\"dataframe\">\n",
       "  <thead>\n",
       "    <tr style=\"text-align: right;\">\n",
       "      <th></th>\n",
       "      <th>Number of components</th>\n",
       "      <th>Type of covariance</th>\n",
       "      <th>BIC score</th>\n",
       "    </tr>\n",
       "  </thead>\n",
       "  <tbody>\n",
       "    <tr>\n",
       "      <th>2</th>\n",
       "      <td>9</td>\n",
       "      <td>spherical</td>\n",
       "      <td>5360.225680</td>\n",
       "    </tr>\n",
       "    <tr>\n",
       "      <th>3</th>\n",
       "      <td>10</td>\n",
       "      <td>spherical</td>\n",
       "      <td>5467.879288</td>\n",
       "    </tr>\n",
       "    <tr>\n",
       "      <th>1</th>\n",
       "      <td>8</td>\n",
       "      <td>spherical</td>\n",
       "      <td>5538.759669</td>\n",
       "    </tr>\n",
       "    <tr>\n",
       "      <th>4</th>\n",
       "      <td>11</td>\n",
       "      <td>spherical</td>\n",
       "      <td>5563.891215</td>\n",
       "    </tr>\n",
       "    <tr>\n",
       "      <th>5</th>\n",
       "      <td>12</td>\n",
       "      <td>spherical</td>\n",
       "      <td>5701.457791</td>\n",
       "    </tr>\n",
       "  </tbody>\n",
       "</table>\n",
       "</div>"
      ],
      "text/plain": [
       "  Number of components Type of covariance    BIC score\n",
       "2                    9          spherical  5360.225680\n",
       "3                   10          spherical  5467.879288\n",
       "1                    8          spherical  5538.759669\n",
       "4                   11          spherical  5563.891215\n",
       "5                   12          spherical  5701.457791"
      ]
     },
     "execution_count": 63,
     "metadata": {},
     "output_type": "execute_result"
    }
   ],
   "source": [
    "df = pd.DataFrame(grid_scaled.cv_results_)[\n",
    "    [\"param_gmm__n_components\", \"param_gmm__covariance_type\", \"mean_test_score\"]\n",
    "]\n",
    "df[\"mean_test_score\"] = -df[\"mean_test_score\"]\n",
    "df = df.rename(\n",
    "    columns={\n",
    "        \"param_gmm__n_components\": \"Number of components\",\n",
    "        \"param_gmm__covariance_type\": \"Type of covariance\",\n",
    "        \"mean_test_score\": \"BIC score\",\n",
    "    }\n",
    ")\n",
    "df.sort_values(by=\"BIC score\").head()"
   ]
  },
  {
   "cell_type": "code",
   "execution_count": 64,
   "id": "5a665546",
   "metadata": {},
   "outputs": [
    {
     "data": {
      "image/png": "[encoded data removed]",
      "text/plain": [
       "<Figure size 641.611x500 with 1 Axes>"
      ]
     },
     "metadata": {},
     "output_type": "display_data"
    }
   ],
   "source": [
    "sns.catplot(\n",
    "    data=df,\n",
    "    kind=\"bar\",\n",
    "    x=\"Number of components\",\n",
    "    y=\"BIC score\",\n",
    "    hue=\"Type of covariance\",\n",
    ");\n"
   ]
  },
  {
   "cell_type": "code",
   "execution_count": 65,
   "id": "bba8ce93",
   "metadata": {},
   "outputs": [
    {
     "data": {
      "image/png": "[encoded data removed]",
      "text/plain": [
       "<Figure size 600x600 with 9 Axes>"
      ]
     },
     "metadata": {},
     "output_type": "display_data"
    }
   ],
   "source": [
    "fig = plt.figure(figsize=(6, 6))\n",
    "fig.subplots_adjust(left=0, right=1, bottom=0, top=1, hspace=0.05, wspace=0.05)\n",
    "\n",
    "cmeans = grid_scaled.best_estimator_.steps[-1][1].means_\n",
    "\n",
    "for i in range(cmeans.shape[0]):\n",
    "    ax = fig.add_subplot(4, 3, i + 1, xticks=[], yticks=[])\n",
    "    # data is 28 x 28 pixels, grayscale\n",
    "    ax.imshow(cmeans[i].reshape(8,8),  interpolation='nearest')\n",
    "    # label the image with the target value\n",
    "    #ax.text(0, 7, str(mnist.target.loc[i]))"
   ]
  },
  {
   "cell_type": "code",
   "execution_count": 66,
   "id": "2090f14c",
   "metadata": {},
   "outputs": [
    {
     "name": "stdout",
     "output_type": "stream",
     "text": [
      "Estimated number of clusters: 9\n",
      "Adjusted Rand Index: 0.546\n",
      "Silhouette Coefficient: 0.155\n"
     ]
    }
   ],
   "source": [
    "n_clusters_ = grid_scaled.best_estimator_.steps[-1][1].means_.shape[0]\n",
    "labels = grid_scaled.predict(scaled)\n",
    "\n",
    "print(\"Estimated number of clusters: %d\" % n_clusters_)\n",
    "\n",
    "print(f\"Adjusted Rand Index: {adjusted_rand_score(true_labels, labels):.3f}\")\n",
    "try:\n",
    "    print(f\"Silhouette Coefficient: {silhouette_score(scaled, labels):.3f}\")\n",
    "except ValueError:\n",
    "    print('Seems like you only got 1 cluster, so Silhoutte cannot be calculated')"
   ]
  },
  {
   "cell_type": "code",
   "execution_count": null,
   "id": "befe25bf",
   "metadata": {},
   "outputs": [],
   "source": []
  }
 ],
 "metadata": {
  "celltoolbar": "Slideshow",
  "kernelspec": {
   "display_name": "Python 3 (ipykernel)",
   "language": "python",
   "name": "python3"
  },
  "language_info": {
   "codemirror_mode": {
    "name": "ipython",
    "version": 3
   },
   "file_extension": ".py",
   "mimetype": "text/x-python",
   "name": "python",
   "nbconvert_exporter": "python",
   "pygments_lexer": "ipython3",
   "version": "3.8.8"
  }
 },
 "nbformat": 4,
 "nbformat_minor": 5
}
